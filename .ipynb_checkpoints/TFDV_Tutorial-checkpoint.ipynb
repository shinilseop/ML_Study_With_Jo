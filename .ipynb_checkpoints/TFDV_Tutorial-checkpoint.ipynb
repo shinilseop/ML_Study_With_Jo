{
 "cells": [
  {
   "cell_type": "code",
   "execution_count": null,
   "id": "2469897f-5f11-444a-ab74-4848830d48cd",
   "metadata": {},
   "outputs": [],
   "source": [
    "import tensorflow as tf\n",
    "from tfx import v1 as tfx\n",
    "print(f'TensorFlow version: {tf.__version__}')\n",
    "print(f'TFX Version {tfx.__version__}')"
   ]
  }
 ],
 "metadata": {
  "kernelspec": {
   "display_name": "Python 3 (ipykernel)",
   "language": "python",
   "name": "python3"
  },
  "language_info": {
   "codemirror_mode": {
    "name": "ipython",
    "version": 3
   },
   "file_extension": ".py",
   "mimetype": "text/x-python",
   "name": "python",
   "nbconvert_exporter": "python",
   "pygments_lexer": "ipython3",
   "version": "3.7.13"
  }
 },
 "nbformat": 4,
 "nbformat_minor": 5
}
