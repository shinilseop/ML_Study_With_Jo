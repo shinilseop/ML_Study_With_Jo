{
 "cells": [
  {
   "cell_type": "markdown",
   "id": "1c9e250a",
   "metadata": {},
   "source": [
    "# TF Dataset을 이용한 데이터 처리 해보기"
   ]
  },
  {
   "cell_type": "markdown",
   "id": "302485fa",
   "metadata": {},
   "source": [
    "### import packages"
   ]
  },
  {
   "cell_type": "code",
   "execution_count": 148,
   "id": "8c9751f4",
   "metadata": {},
   "outputs": [],
   "source": [
    "import pathlib\n",
    "import os\n",
    "import matplotlib.pyplot as plt\n",
    "import pandas as pd\n",
    "import numpy as np\n",
    "import tensorflow as tf\n",
    "np.set_printoptions(precision=3, suppress=True)"
   ]
  },
  {
   "cell_type": "markdown",
   "id": "5b6ddbf0",
   "metadata": {},
   "source": [
    "### data Load"
   ]
  },
  {
   "cell_type": "code",
   "execution_count": 149,
   "id": "fb3801aa",
   "metadata": {},
   "outputs": [],
   "source": [
    "TRAIN_DATA_URL = \"https://storage.googleapis.com/tf-datasets/titanic/train.csv\"\n",
    "TEST_DATA_URL = \"https://storage.googleapis.com/tf-datasets/titanic/eval.csv\"\n",
    "\n",
    "train_file_path = tf.keras.utils.get_file(\"train.csv\", TRAIN_DATA_URL)\n",
    "test_file_path = tf.keras.utils.get_file(\"eval.csv\", TEST_DATA_URL)"
   ]
  },
  {
   "cell_type": "code",
   "execution_count": 191,
   "id": "bcd958f1",
   "metadata": {},
   "outputs": [
    {
     "data": {
      "text/plain": [
       "survived              627\n",
       "sex                   627\n",
       "age                   627\n",
       "n_siblings_spouses    627\n",
       "parch                 627\n",
       "fare                  627\n",
       "class                 627\n",
       "deck                  627\n",
       "embark_town           627\n",
       "alone                 627\n",
       "dtype: int64"
      ]
     },
     "execution_count": 191,
     "metadata": {},
     "output_type": "execute_result"
    }
   ],
   "source": [
    "pd.read_csv(train_file_path).count()"
   ]
  },
  {
   "cell_type": "code",
   "execution_count": 150,
   "id": "c1678bc4",
   "metadata": {},
   "outputs": [],
   "source": [
    "LABEL_COLUMN = 'survived'\n",
    "LABELS = [0, 1]"
   ]
  },
  {
   "cell_type": "code",
   "execution_count": 151,
   "id": "e6aa3a09",
   "metadata": {},
   "outputs": [],
   "source": [
    "def get_dataset(file_path, **kwargs):\n",
    "    dataset = tf.data.experimental.make_csv_dataset(\n",
    "        file_path, # 파일 경로\n",
    "        batch_size=5, # 데이터 배치 크기\n",
    "        label_name=LABEL_COLUMN, # 라벨 이름 설정\n",
    "        na_value=\"?\", # \n",
    "        num_epochs=1,\n",
    "        ignore_errors=True,\n",
    "        **kwargs)\n",
    "    return dataset\n",
    "\n",
    "raw_train_data = get_dataset(train_file_path)\n",
    "raw_test_data = get_dataset(test_file_path)"
   ]
  },
  {
   "cell_type": "code",
   "execution_count": 188,
   "id": "fbe07071",
   "metadata": {},
   "outputs": [],
   "source": [
    "def show_batch(dataset):\n",
    "    for batch, label in dataset.take(1):\n",
    "        for key, value in batch.items():\n",
    "            print(\"{:20s}: {}\".format(key, value.numpy()))\n",
    "            \n",
    "def show_all_batch(dataset):\n",
    "    i = 1\n",
    "    for batch, label in dataset:\n",
    "        print('='*10,i,'='*10)\n",
    "        i+=1\n",
    "        for key, value in batch.items():\n",
    "            print(\"{:20s}: {}\".format(key, value.numpy()))"
   ]
  },
  {
   "cell_type": "code",
   "execution_count": 153,
   "id": "ab9ed8d4",
   "metadata": {
    "scrolled": false
   },
   "outputs": [
    {
     "name": "stdout",
     "output_type": "stream",
     "text": [
      "sex                 : [b'male' b'female' b'female' b'female' b'male']\n",
      "age                 : [28. 28. 37. 25. 19.]\n",
      "n_siblings_spouses  : [0 0 0 1 0]\n",
      "parch               : [0 0 0 0 0]\n",
      "fare                : [56.496  7.229  9.587  7.925  7.896]\n",
      "class               : [b'Third' b'Third' b'Third' b'Third' b'Third']\n",
      "deck                : [b'unknown' b'unknown' b'unknown' b'unknown' b'unknown']\n",
      "embark_town         : [b'Southampton' b'Cherbourg' b'Southampton' b'Southampton' b'Southampton']\n",
      "alone               : [b'y' b'y' b'y' b'n' b'y']\n"
     ]
    }
   ],
   "source": [
    "show_batch(raw_train_data)"
   ]
  },
  {
   "cell_type": "markdown",
   "id": "772ca102",
   "metadata": {},
   "source": [
    "### data preprocessing"
   ]
  },
  {
   "cell_type": "code",
   "execution_count": 154,
   "id": "2172d1ea",
   "metadata": {},
   "outputs": [
    {
     "name": "stdout",
     "output_type": "stream",
     "text": [
      "sex                 : [b'female' b'male' b'female' b'male' b'female']\n",
      "age                 : [24. 28. 28. 24. 28.]\n",
      "n_siblings_spouses  : [0 0 0 0 0]\n",
      "parch               : [0 0 0 0 1]\n",
      "fare                : [13.     7.896  7.75  79.2   55.   ]\n",
      "class               : [b'Second' b'Third' b'Third' b'First' b'First']\n",
      "deck                : [b'F' b'unknown' b'unknown' b'B' b'E']\n",
      "embark_town         : [b'Southampton' b'Southampton' b'Queenstown' b'Cherbourg' b'Southampton']\n",
      "alone               : [b'y' b'y' b'y' b'y' b'n']\n"
     ]
    }
   ],
   "source": [
    "CSV_COLUMNS = ['survived', 'sex', 'age', 'n_siblings_spouses', 'parch', 'fare', 'class', 'deck', 'embark_town', 'alone']\n",
    "\n",
    "temp_dataset = get_dataset(train_file_path, column_names = CSV_COLUMNS)\n",
    "\n",
    "show_batch(temp_dataset)"
   ]
  },
  {
   "cell_type": "code",
   "execution_count": 155,
   "id": "a280280d",
   "metadata": {},
   "outputs": [
    {
     "name": "stdout",
     "output_type": "stream",
     "text": [
      "age                 : [28. 40. 17. 28. 64.]\n",
      "n_siblings_spouses  : [0. 1. 1. 0. 1.]\n",
      "parch               : [0. 4. 0. 0. 4.]\n",
      "fare                : [ 56.496  27.9    57.      7.312 263.   ]\n"
     ]
    }
   ],
   "source": [
    "SELECT_COLUMN = ['survived', 'age', 'n_siblings_spouses', 'parch', 'fare']\n",
    "DEFAULTS = [0, 0.0, 0.0, 0.0, 0.0]\n",
    "temp_dataset = get_dataset(train_file_path,\n",
    "                          select_columns=SELECT_COLUMN,\n",
    "                          column_defaults=DEFAULTS)\n",
    "show_batch(temp_dataset)"
   ]
  },
  {
   "cell_type": "code",
   "execution_count": 156,
   "id": "8281a2e9",
   "metadata": {},
   "outputs": [],
   "source": [
    "example_batch, labels_batch = next(iter(temp_dataset))"
   ]
  },
  {
   "cell_type": "code",
   "execution_count": 157,
   "id": "fd2defa9",
   "metadata": {},
   "outputs": [],
   "source": [
    "def pack(features, label):\n",
    "    return tf.stack(list(features.values()), axis=-1), label"
   ]
  },
  {
   "cell_type": "code",
   "execution_count": 158,
   "id": "0e82b448",
   "metadata": {},
   "outputs": [
    {
     "name": "stdout",
     "output_type": "stream",
     "text": [
      "[[20.     1.     1.    15.742]\n",
      " [ 2.     0.     1.    10.462]\n",
      " [35.     1.     0.    53.1  ]\n",
      " [28.     0.     0.     7.75 ]\n",
      " [28.     0.     0.    13.   ]]\n",
      "\n",
      "[1 0 1 0 0]\n"
     ]
    }
   ],
   "source": [
    "packed_dataset = temp_dataset.map(pack)\n",
    "\n",
    "for features, labels in packed_dataset.take(1):\n",
    "    print(features.numpy())\n",
    "    print()\n",
    "    print(labels.numpy())"
   ]
  },
  {
   "cell_type": "code",
   "execution_count": 159,
   "id": "7f34cde1",
   "metadata": {},
   "outputs": [
    {
     "name": "stdout",
     "output_type": "stream",
     "text": [
      "sex                 : [b'male' b'male' b'male' b'female' b'male']\n",
      "age                 : [30. 32. 28. 35. 57.]\n",
      "n_siblings_spouses  : [1 0 1 0 0]\n",
      "parch               : [0 0 0 0 0]\n",
      "fare                : [24.   10.5  16.1  21.   12.35]\n",
      "class               : [b'Second' b'Second' b'Third' b'Second' b'Second']\n",
      "deck                : [b'unknown' b'unknown' b'unknown' b'unknown' b'unknown']\n",
      "embark_town         : [b'Cherbourg' b'Southampton' b'Southampton' b'Southampton' b'Queenstown']\n",
      "alone               : [b'n' b'y' b'n' b'y' b'y']\n"
     ]
    }
   ],
   "source": [
    "show_batch(raw_train_data)"
   ]
  },
  {
   "cell_type": "code",
   "execution_count": 160,
   "id": "ba466384",
   "metadata": {},
   "outputs": [],
   "source": [
    "example_batch, labels_batch = next(iter(temp_dataset))"
   ]
  },
  {
   "cell_type": "code",
   "execution_count": 161,
   "id": "6b0e3ab3",
   "metadata": {},
   "outputs": [],
   "source": [
    "class PackNumericFeatures(object):\n",
    "    def __init__(self, names):\n",
    "        self.names=names\n",
    "    def __call__(self, features, labels):\n",
    "        numeric_features = [features.pop(name) for name in self.names]\n",
    "        numeric_features = [tf.cast(feat, tf.float32) for feat in numeric_features]\n",
    "        numeric_features = tf.stack(numeric_features, axis=-1)\n",
    "        features['numeric'] = numeric_features\n",
    "        \n",
    "        return features, labels"
   ]
  },
  {
   "cell_type": "code",
   "execution_count": 162,
   "id": "3b086da0",
   "metadata": {},
   "outputs": [],
   "source": [
    "NUMERIC_FEATURES = ['age', 'n_siblings_spouses', 'parch', 'fare']\n",
    "packed_train_data =  raw_train_data.map(PackNumericFeatures(NUMERIC_FEATURES))\n",
    "packed_test_data = raw_test_data.map(PackNumericFeatures(NUMERIC_FEATURES))"
   ]
  },
  {
   "cell_type": "code",
   "execution_count": 163,
   "id": "b71bdd2b",
   "metadata": {},
   "outputs": [
    {
     "name": "stdout",
     "output_type": "stream",
     "text": [
      "sex                 : [b'male' b'male' b'female' b'male' b'male']\n",
      "class               : [b'First' b'Third' b'First' b'Second' b'Second']\n",
      "deck                : [b'C' b'unknown' b'unknown' b'unknown' b'unknown']\n",
      "embark_town         : [b'Cherbourg' b'Southampton' b'Cherbourg' b'Southampton' b'Southampton']\n",
      "alone               : [b'n' b'y' b'y' b'n' b'n']\n",
      "numeric             : [[ 50.      1.      0.    106.425]\n",
      " [ 20.      0.      0.      9.225]\n",
      " [ 35.      0.      0.    512.329]\n",
      " [ 25.      1.      0.     26.   ]\n",
      " [ 42.      1.      0.     27.   ]]\n"
     ]
    }
   ],
   "source": [
    "show_batch(packed_train_data)"
   ]
  },
  {
   "cell_type": "code",
   "execution_count": 164,
   "id": "385258f5",
   "metadata": {},
   "outputs": [],
   "source": [
    "example_batch, labels_batch = next(iter(packed_train_data))"
   ]
  },
  {
   "cell_type": "code",
   "execution_count": 165,
   "id": "ddf238e1",
   "metadata": {},
   "outputs": [
    {
     "data": {
      "text/html": [
       "<div>\n",
       "<style scoped>\n",
       "    .dataframe tbody tr th:only-of-type {\n",
       "        vertical-align: middle;\n",
       "    }\n",
       "\n",
       "    .dataframe tbody tr th {\n",
       "        vertical-align: top;\n",
       "    }\n",
       "\n",
       "    .dataframe thead th {\n",
       "        text-align: right;\n",
       "    }\n",
       "</style>\n",
       "<table border=\"1\" class=\"dataframe\">\n",
       "  <thead>\n",
       "    <tr style=\"text-align: right;\">\n",
       "      <th></th>\n",
       "      <th>age</th>\n",
       "      <th>n_siblings_spouses</th>\n",
       "      <th>parch</th>\n",
       "      <th>fare</th>\n",
       "    </tr>\n",
       "  </thead>\n",
       "  <tbody>\n",
       "    <tr>\n",
       "      <th>count</th>\n",
       "      <td>627.000000</td>\n",
       "      <td>627.000000</td>\n",
       "      <td>627.000000</td>\n",
       "      <td>627.000000</td>\n",
       "    </tr>\n",
       "    <tr>\n",
       "      <th>mean</th>\n",
       "      <td>29.631308</td>\n",
       "      <td>0.545455</td>\n",
       "      <td>0.379585</td>\n",
       "      <td>34.385399</td>\n",
       "    </tr>\n",
       "    <tr>\n",
       "      <th>std</th>\n",
       "      <td>12.511818</td>\n",
       "      <td>1.151090</td>\n",
       "      <td>0.792999</td>\n",
       "      <td>54.597730</td>\n",
       "    </tr>\n",
       "    <tr>\n",
       "      <th>min</th>\n",
       "      <td>0.750000</td>\n",
       "      <td>0.000000</td>\n",
       "      <td>0.000000</td>\n",
       "      <td>0.000000</td>\n",
       "    </tr>\n",
       "    <tr>\n",
       "      <th>25%</th>\n",
       "      <td>23.000000</td>\n",
       "      <td>0.000000</td>\n",
       "      <td>0.000000</td>\n",
       "      <td>7.895800</td>\n",
       "    </tr>\n",
       "    <tr>\n",
       "      <th>50%</th>\n",
       "      <td>28.000000</td>\n",
       "      <td>0.000000</td>\n",
       "      <td>0.000000</td>\n",
       "      <td>15.045800</td>\n",
       "    </tr>\n",
       "    <tr>\n",
       "      <th>75%</th>\n",
       "      <td>35.000000</td>\n",
       "      <td>1.000000</td>\n",
       "      <td>0.000000</td>\n",
       "      <td>31.387500</td>\n",
       "    </tr>\n",
       "    <tr>\n",
       "      <th>max</th>\n",
       "      <td>80.000000</td>\n",
       "      <td>8.000000</td>\n",
       "      <td>5.000000</td>\n",
       "      <td>512.329200</td>\n",
       "    </tr>\n",
       "  </tbody>\n",
       "</table>\n",
       "</div>"
      ],
      "text/plain": [
       "              age  n_siblings_spouses       parch        fare\n",
       "count  627.000000          627.000000  627.000000  627.000000\n",
       "mean    29.631308            0.545455    0.379585   34.385399\n",
       "std     12.511818            1.151090    0.792999   54.597730\n",
       "min      0.750000            0.000000    0.000000    0.000000\n",
       "25%     23.000000            0.000000    0.000000    7.895800\n",
       "50%     28.000000            0.000000    0.000000   15.045800\n",
       "75%     35.000000            1.000000    0.000000   31.387500\n",
       "max     80.000000            8.000000    5.000000  512.329200"
      ]
     },
     "execution_count": 165,
     "metadata": {},
     "output_type": "execute_result"
    }
   ],
   "source": [
    "desc = pd.read_csv(train_file_path)[NUMERIC_FEATURES].describe()\n",
    "desc"
   ]
  },
  {
   "cell_type": "code",
   "execution_count": 166,
   "id": "ab8834f6",
   "metadata": {},
   "outputs": [],
   "source": [
    "MEAN = np.array(desc.T['mean'])\n",
    "STD = np.array(desc.T['std'])"
   ]
  },
  {
   "cell_type": "code",
   "execution_count": 167,
   "id": "6dd42465",
   "metadata": {},
   "outputs": [],
   "source": [
    "def normalize_numeric_data(data, mean, std):\n",
    "    return (data-mean)/std"
   ]
  },
  {
   "cell_type": "code",
   "execution_count": 168,
   "id": "5ce431e8",
   "metadata": {},
   "outputs": [
    {
     "data": {
      "text/plain": [
       "NumericColumn(key='numeric', shape=(4,), default_value=None, dtype=tf.float32, normalizer_fn=functools.partial(<function normalize_numeric_data at 0x000001E9C6FD1828>, mean=array([29.631,  0.545,  0.38 , 34.385]), std=array([12.512,  1.151,  0.793, 54.598])))"
      ]
     },
     "execution_count": 168,
     "metadata": {},
     "output_type": "execute_result"
    }
   ],
   "source": [
    "import functools\n",
    "\n",
    "normalizer = partial(normalize_numeric_data, mean=MEAN, std=STD)\n",
    "\n",
    "numeric_column = tf.feature_column.numeric_column('numeric', normalizer_fn=normalizer, shape=[len(NUMERIC_FEATURES)])\n",
    "numeric_columns = [numeric_column]\n",
    "numeric_column"
   ]
  },
  {
   "cell_type": "code",
   "execution_count": 169,
   "id": "7622cb11",
   "metadata": {},
   "outputs": [
    {
     "data": {
      "text/plain": [
       "<tf.Tensor: shape=(5, 4), dtype=float32, numpy=\n",
       "array([[28.   ,  0.   ,  0.   , 56.496],\n",
       "       [28.   ,  1.   ,  2.   , 23.45 ],\n",
       "       [20.5  ,  0.   ,  0.   ,  7.25 ],\n",
       "       [23.   ,  0.   ,  0.   , 13.792],\n",
       "       [31.   ,  0.   ,  0.   , 13.   ]], dtype=float32)>"
      ]
     },
     "execution_count": 169,
     "metadata": {},
     "output_type": "execute_result"
    }
   ],
   "source": [
    "example_batch['numeric']"
   ]
  },
  {
   "cell_type": "code",
   "execution_count": 170,
   "id": "f90f7758",
   "metadata": {},
   "outputs": [
    {
     "data": {
      "text/plain": [
       "array([[-0.13 , -0.474, -0.479,  0.405],\n",
       "       [-0.13 ,  0.395,  2.043, -0.2  ],\n",
       "       [-0.73 , -0.474, -0.479, -0.497],\n",
       "       [-0.53 , -0.474, -0.479, -0.377],\n",
       "       [ 0.109, -0.474, -0.479, -0.392]], dtype=float32)"
      ]
     },
     "execution_count": 170,
     "metadata": {},
     "output_type": "execute_result"
    }
   ],
   "source": [
    "numeric_layer = tf.keras.layers.DenseFeatures(numeric_columns)\n",
    "numeric_layer(example_batch).numpy()"
   ]
  },
  {
   "cell_type": "code",
   "execution_count": 171,
   "id": "728e0344",
   "metadata": {},
   "outputs": [],
   "source": [
    "CATEGORIES = {\n",
    "    'sex' : ['male', 'female'],\n",
    "    'class' : ['First', 'Second', 'Third'],\n",
    "    'deck' : ['A', 'B', 'C', 'D', 'E', 'F', 'G', 'H', 'I', 'J'],\n",
    "    'embark_town' : ['Cherbourg', 'Southhampton', 'Queenstown'],\n",
    "    'alone' : ['y', 'n']\n",
    "}"
   ]
  },
  {
   "cell_type": "code",
   "execution_count": 172,
   "id": "931b5ccc",
   "metadata": {},
   "outputs": [],
   "source": [
    "categorical_columns = []\n",
    "for feature, vocab in CATEGORIES.items():\n",
    "    cat_col = tf.feature_column.categorical_column_with_vocabulary_list(\n",
    "        key=feature, vocabulary_list=vocab)\n",
    "    categorical_columns.append(tf.feature_column.indicator_column(cat_col))"
   ]
  },
  {
   "cell_type": "code",
   "execution_count": 173,
   "id": "077053c8",
   "metadata": {},
   "outputs": [
    {
     "data": {
      "text/plain": [
       "[IndicatorColumn(categorical_column=VocabularyListCategoricalColumn(key='sex', vocabulary_list=('male', 'female'), dtype=tf.string, default_value=-1, num_oov_buckets=0)),\n",
       " IndicatorColumn(categorical_column=VocabularyListCategoricalColumn(key='class', vocabulary_list=('First', 'Second', 'Third'), dtype=tf.string, default_value=-1, num_oov_buckets=0)),\n",
       " IndicatorColumn(categorical_column=VocabularyListCategoricalColumn(key='deck', vocabulary_list=('A', 'B', 'C', 'D', 'E', 'F', 'G', 'H', 'I', 'J'), dtype=tf.string, default_value=-1, num_oov_buckets=0)),\n",
       " IndicatorColumn(categorical_column=VocabularyListCategoricalColumn(key='embark_town', vocabulary_list=('Cherbourg', 'Southhampton', 'Queenstown'), dtype=tf.string, default_value=-1, num_oov_buckets=0)),\n",
       " IndicatorColumn(categorical_column=VocabularyListCategoricalColumn(key='alone', vocabulary_list=('y', 'n'), dtype=tf.string, default_value=-1, num_oov_buckets=0))]"
      ]
     },
     "execution_count": 173,
     "metadata": {},
     "output_type": "execute_result"
    }
   ],
   "source": [
    "categorical_columns"
   ]
  },
  {
   "cell_type": "code",
   "execution_count": 174,
   "id": "a8a2e802",
   "metadata": {},
   "outputs": [
    {
     "name": "stdout",
     "output_type": "stream",
     "text": [
      "[1. 0. 0. 0. 1. 0. 0. 0. 0. 0. 0. 0. 0. 0. 0. 0. 0. 0. 1. 0.]\n"
     ]
    }
   ],
   "source": [
    "categorical_layer = tf.keras.layers.DenseFeatures(categorical_columns)\n",
    "print(categorical_layer(example_batch).numpy()[0])"
   ]
  },
  {
   "cell_type": "code",
   "execution_count": 175,
   "id": "b46a6aaa",
   "metadata": {},
   "outputs": [
    {
     "name": "stdout",
     "output_type": "stream",
     "text": [
      "[ 1.     0.     0.     0.     1.     0.     0.     0.     0.     0.\n",
      "  0.     0.     0.     0.     0.     0.     0.     0.    -0.13  -0.474\n",
      " -0.479  0.405  1.     0.   ]\n"
     ]
    }
   ],
   "source": [
    "preprocessing_layer = tf.keras.layers.DenseFeatures(categorical_columns+numeric_columns)\n",
    "print(preprocessing_layer(example_batch).numpy()[0])"
   ]
  },
  {
   "cell_type": "code",
   "execution_count": 176,
   "id": "6cbda474",
   "metadata": {},
   "outputs": [],
   "source": [
    "model = tf.keras.Sequential([\n",
    "    preprocessing_layer,\n",
    "    tf.keras.layers.Dense(128, activation='relu'),\n",
    "    tf.keras.layers.Dense(128, activation='relu'),\n",
    "    tf.keras.layers.Dense(1),\n",
    "])\n",
    "\n",
    "model.compile(\n",
    "    loss=tf.keras.losses.BinaryCrossentropy(from_logits=True),\n",
    "    optimizer='adam',\n",
    "    metrics=['accuracy'])"
   ]
  },
  {
   "cell_type": "code",
   "execution_count": 177,
   "id": "8ab9d707",
   "metadata": {},
   "outputs": [],
   "source": [
    "train_data = packed_train_data.shuffle(500)\n",
    "test_data = packed_test_data"
   ]
  },
  {
   "cell_type": "code",
   "execution_count": 178,
   "id": "9032f5d6",
   "metadata": {},
   "outputs": [
    {
     "name": "stdout",
     "output_type": "stream",
     "text": [
      "Epoch 1/20\n",
      "WARNING:tensorflow:Layers in a Sequential model should only have a single input tensor. Received: inputs=OrderedDict([('sex', <tf.Tensor 'IteratorGetNext:5' shape=(None,) dtype=string>), ('class', <tf.Tensor 'IteratorGetNext:1' shape=(None,) dtype=string>), ('deck', <tf.Tensor 'IteratorGetNext:2' shape=(None,) dtype=string>), ('embark_town', <tf.Tensor 'IteratorGetNext:3' shape=(None,) dtype=string>), ('alone', <tf.Tensor 'IteratorGetNext:0' shape=(None,) dtype=string>), ('numeric', <tf.Tensor 'IteratorGetNext:4' shape=(None, 4) dtype=float32>)]). Consider rewriting this model with the Functional API.\n",
      "WARNING:tensorflow:Layers in a Sequential model should only have a single input tensor. Received: inputs=OrderedDict([('sex', <tf.Tensor 'IteratorGetNext:5' shape=(None,) dtype=string>), ('class', <tf.Tensor 'IteratorGetNext:1' shape=(None,) dtype=string>), ('deck', <tf.Tensor 'IteratorGetNext:2' shape=(None,) dtype=string>), ('embark_town', <tf.Tensor 'IteratorGetNext:3' shape=(None,) dtype=string>), ('alone', <tf.Tensor 'IteratorGetNext:0' shape=(None,) dtype=string>), ('numeric', <tf.Tensor 'IteratorGetNext:4' shape=(None, 4) dtype=float32>)]). Consider rewriting this model with the Functional API.\n",
      "126/126 [==============================] - 2s 9ms/step - loss: 0.4969 - accuracy: 0.7321\n",
      "Epoch 2/20\n",
      "126/126 [==============================] - 1s 7ms/step - loss: 0.4228 - accuracy: 0.8118\n",
      "Epoch 3/20\n",
      "126/126 [==============================] - 1s 7ms/step - loss: 0.4000 - accuracy: 0.8198\n",
      "Epoch 4/20\n",
      "126/126 [==============================] - 1s 7ms/step - loss: 0.3902 - accuracy: 0.8278\n",
      "Epoch 5/20\n",
      "126/126 [==============================] - 1s 7ms/step - loss: 0.3755 - accuracy: 0.8389\n",
      "Epoch 6/20\n",
      "126/126 [==============================] - 1s 9ms/step - loss: 0.3707 - accuracy: 0.8469\n",
      "Epoch 7/20\n",
      "126/126 [==============================] - 1s 8ms/step - loss: 0.3649 - accuracy: 0.8453\n",
      "Epoch 8/20\n",
      "126/126 [==============================] - 1s 7ms/step - loss: 0.3526 - accuracy: 0.8485\n",
      "Epoch 9/20\n",
      "126/126 [==============================] - 1s 7ms/step - loss: 0.3578 - accuracy: 0.8405\n",
      "Epoch 10/20\n",
      "126/126 [==============================] - 1s 7ms/step - loss: 0.3444 - accuracy: 0.8533\n",
      "Epoch 11/20\n",
      "126/126 [==============================] - 1s 8ms/step - loss: 0.3460 - accuracy: 0.8437\n",
      "Epoch 12/20\n",
      "126/126 [==============================] - 1s 11ms/step - loss: 0.3390 - accuracy: 0.8485\n",
      "Epoch 13/20\n",
      "126/126 [==============================] - 1s 7ms/step - loss: 0.3296 - accuracy: 0.8565\n",
      "Epoch 14/20\n",
      "126/126 [==============================] - 1s 7ms/step - loss: 0.3289 - accuracy: 0.8596\n",
      "Epoch 15/20\n",
      "126/126 [==============================] - 1s 11ms/step - loss: 0.3223 - accuracy: 0.8612\n",
      "Epoch 16/20\n",
      "126/126 [==============================] - 2s 12ms/step - loss: 0.3183 - accuracy: 0.8581\n",
      "Epoch 17/20\n",
      "126/126 [==============================] - 1s 9ms/step - loss: 0.3244 - accuracy: 0.8533\n",
      "Epoch 18/20\n",
      "126/126 [==============================] - 1s 9ms/step - loss: 0.3178 - accuracy: 0.8549\n",
      "Epoch 19/20\n",
      "126/126 [==============================] - 2s 12ms/step - loss: 0.3134 - accuracy: 0.8676\n",
      "Epoch 20/20\n",
      "126/126 [==============================] - 1s 8ms/step - loss: 0.3034 - accuracy: 0.8676\n"
     ]
    },
    {
     "data": {
      "text/plain": [
       "<keras.callbacks.History at 0x1e9e1799888>"
      ]
     },
     "execution_count": 178,
     "metadata": {},
     "output_type": "execute_result"
    }
   ],
   "source": [
    "model.fit(train_data, epochs=20)"
   ]
  },
  {
   "cell_type": "code",
   "execution_count": 179,
   "id": "c24bd33a",
   "metadata": {},
   "outputs": [
    {
     "name": "stdout",
     "output_type": "stream",
     "text": [
      "WARNING:tensorflow:Layers in a Sequential model should only have a single input tensor. Received: inputs=OrderedDict([('sex', <tf.Tensor 'IteratorGetNext:5' shape=(None,) dtype=string>), ('class', <tf.Tensor 'IteratorGetNext:1' shape=(None,) dtype=string>), ('deck', <tf.Tensor 'IteratorGetNext:2' shape=(None,) dtype=string>), ('embark_town', <tf.Tensor 'IteratorGetNext:3' shape=(None,) dtype=string>), ('alone', <tf.Tensor 'IteratorGetNext:0' shape=(None,) dtype=string>), ('numeric', <tf.Tensor 'IteratorGetNext:4' shape=(None, 4) dtype=float32>)]). Consider rewriting this model with the Functional API.\n",
      "53/53 [==============================] - 1s 8ms/step - loss: 0.4467 - accuracy: 0.8447\n",
      "\n",
      "\n",
      "Test Loss 0.44666460156440735, Test Accuracy 0.8446969985961914\n"
     ]
    }
   ],
   "source": [
    "test_loss, test_accuracy = model.evaluate(test_data)\n",
    "\n",
    "print('\\n\\nTest Loss {}, Test Accuracy {}'.format(test_loss, test_accuracy))"
   ]
  },
  {
   "cell_type": "code",
   "execution_count": 181,
   "id": "58645c1d",
   "metadata": {},
   "outputs": [
    {
     "name": "stdout",
     "output_type": "stream",
     "text": [
      "predicted survival: 17.12%  | Actual outcome:  DIED\n",
      "predicted survival: 1.74%  | Actual outcome:  SURVIVED\n",
      "predicted survival: 100.00%  | Actual outcome:  DIED\n",
      "predicted survival: 22.91%  | Actual outcome:  SURVIVED\n",
      "predicted survival: 62.34%  | Actual outcome:  SURVIVED\n"
     ]
    }
   ],
   "source": [
    "predictions = model.predict(test_data)\n",
    "\n",
    "for prediction, survived in zip(predictions[:10], list(test_data)[0][1][:10]):\n",
    "    prediction = tf.sigmoid(prediction).numpy()\n",
    "    print(\"predicted survival: {:.2%}\".format(prediction[0]),\n",
    "         \" | Actual outcome: \",\n",
    "         (\"SURVIVED\" if bool(survived) else \"DIED\"))"
   ]
  },
  {
   "cell_type": "code",
   "execution_count": 192,
   "id": "10030c91",
   "metadata": {},
   "outputs": [
    {
     "data": {
      "text/plain": [
       "array([[-1.577],\n",
       "       [-4.033],\n",
       "       [13.221],\n",
       "       [-1.213],\n",
       "       [ 0.504],\n",
       "       [ 1.746],\n",
       "       [-0.047],\n",
       "       [-2.697],\n",
       "       [-2.549],\n",
       "       [-0.03 ],\n",
       "       [-2.494],\n",
       "       [-2.093],\n",
       "       [-2.381],\n",
       "       [-1.725],\n",
       "       [-0.093],\n",
       "       [-2.987],\n",
       "       [-1.181],\n",
       "       [-1.14 ],\n",
       "       [ 0.199],\n",
       "       [-2.418],\n",
       "       [-2.436],\n",
       "       [-4.352],\n",
       "       [-1.276],\n",
       "       [ 5.838],\n",
       "       [-2.155],\n",
       "       [-0.143],\n",
       "       [-0.584],\n",
       "       [ 0.189],\n",
       "       [-2.358],\n",
       "       [-2.729],\n",
       "       [ 2.755],\n",
       "       [-1.537],\n",
       "       [ 0.342],\n",
       "       [-3.209],\n",
       "       [-1.293],\n",
       "       [-2.52 ],\n",
       "       [-2.648],\n",
       "       [-2.746],\n",
       "       [-0.957],\n",
       "       [-4.018],\n",
       "       [ 1.431],\n",
       "       [ 3.518],\n",
       "       [11.403],\n",
       "       [-1.687],\n",
       "       [-2.509],\n",
       "       [-2.176],\n",
       "       [-2.358],\n",
       "       [-0.551],\n",
       "       [-1.13 ],\n",
       "       [ 2.932],\n",
       "       [ 0.535],\n",
       "       [-0.018],\n",
       "       [ 4.524],\n",
       "       [ 6.655],\n",
       "       [-1.311],\n",
       "       [-0.085],\n",
       "       [-5.53 ],\n",
       "       [-2.09 ],\n",
       "       [-2.051],\n",
       "       [-2.446],\n",
       "       [-2.983],\n",
       "       [-3.363],\n",
       "       [ 1.386],\n",
       "       [ 6.598],\n",
       "       [ 0.068],\n",
       "       [-1.448],\n",
       "       [ 4.952],\n",
       "       [ 1.426],\n",
       "       [ 7.285],\n",
       "       [-0.468],\n",
       "       [-2.134],\n",
       "       [-2.773],\n",
       "       [ 5.822],\n",
       "       [ 2.214],\n",
       "       [ 4.406],\n",
       "       [-2.084],\n",
       "       [ 1.502],\n",
       "       [-4.172],\n",
       "       [-1.979],\n",
       "       [ 3.938],\n",
       "       [-2.509],\n",
       "       [-2.797],\n",
       "       [ 1.6  ],\n",
       "       [-2.704],\n",
       "       [-3.526],\n",
       "       [ 4.57 ],\n",
       "       [-2.735],\n",
       "       [-1.313],\n",
       "       [ 6.263],\n",
       "       [-2.686],\n",
       "       [ 1.68 ],\n",
       "       [ 1.661],\n",
       "       [-1.967],\n",
       "       [-2.541],\n",
       "       [-1.665],\n",
       "       [ 0.7  ],\n",
       "       [-1.648],\n",
       "       [ 1.814],\n",
       "       [-2.301],\n",
       "       [-1.441],\n",
       "       [-1.961],\n",
       "       [ 4.107],\n",
       "       [ 1.417],\n",
       "       [-2.756],\n",
       "       [-3.304],\n",
       "       [-2.611],\n",
       "       [10.135],\n",
       "       [-2.548],\n",
       "       [-4.904],\n",
       "       [-1.111],\n",
       "       [-2.8  ],\n",
       "       [ 2.694],\n",
       "       [ 2.258],\n",
       "       [-2.132],\n",
       "       [-2.444],\n",
       "       [ 5.904],\n",
       "       [ 2.186],\n",
       "       [ 1.175],\n",
       "       [-2.771],\n",
       "       [-1.058],\n",
       "       [-2.512],\n",
       "       [-2.389],\n",
       "       [-1.213],\n",
       "       [ 7.239],\n",
       "       [-0.517],\n",
       "       [-0.695],\n",
       "       [ 1.433],\n",
       "       [-1.213],\n",
       "       [-2.363],\n",
       "       [ 1.025],\n",
       "       [ 1.431],\n",
       "       [ 2.679],\n",
       "       [-1.213],\n",
       "       [-2.02 ],\n",
       "       [-2.543],\n",
       "       [-2.732],\n",
       "       [ 4.215],\n",
       "       [-2.273],\n",
       "       [ 4.376],\n",
       "       [-2.204],\n",
       "       [ 1.43 ],\n",
       "       [ 5.888],\n",
       "       [-2.585],\n",
       "       [ 4.778],\n",
       "       [-2.51 ],\n",
       "       [ 0.49 ],\n",
       "       [ 2.48 ],\n",
       "       [-1.249],\n",
       "       [-0.777],\n",
       "       [-0.37 ],\n",
       "       [ 7.303],\n",
       "       [ 1.632],\n",
       "       [-2.418],\n",
       "       [ 3.001],\n",
       "       [-5.932],\n",
       "       [-2.465],\n",
       "       [-2.028],\n",
       "       [ 1.405],\n",
       "       [ 4.536],\n",
       "       [ 3.04 ],\n",
       "       [-2.776],\n",
       "       [-1.857],\n",
       "       [-1.786],\n",
       "       [ 1.815],\n",
       "       [-1.081],\n",
       "       [ 6.285],\n",
       "       [-1.151],\n",
       "       [-2.414],\n",
       "       [-0.382],\n",
       "       [ 1.165],\n",
       "       [ 8.236],\n",
       "       [-2.467],\n",
       "       [-0.052],\n",
       "       [-2.207],\n",
       "       [ 3.126],\n",
       "       [-1.924],\n",
       "       [-2.602],\n",
       "       [-1.213],\n",
       "       [-3.362],\n",
       "       [-5.568],\n",
       "       [-2.373],\n",
       "       [-2.547],\n",
       "       [-4.174],\n",
       "       [ 0.311],\n",
       "       [-2.47 ],\n",
       "       [-3.581],\n",
       "       [-2.463],\n",
       "       [ 8.304],\n",
       "       [-2.197],\n",
       "       [-2.344],\n",
       "       [ 0.347],\n",
       "       [ 1.96 ],\n",
       "       [-1.979],\n",
       "       [ 1.445],\n",
       "       [-3.363],\n",
       "       [-1.869],\n",
       "       [ 8.12 ],\n",
       "       [-3.363],\n",
       "       [-4.629],\n",
       "       [-2.543],\n",
       "       [ 1.254],\n",
       "       [-2.862],\n",
       "       [-1.363],\n",
       "       [ 2.951],\n",
       "       [-0.382],\n",
       "       [-0.397],\n",
       "       [-2.88 ],\n",
       "       [-2.367],\n",
       "       [-2.395],\n",
       "       [ 1.748],\n",
       "       [ 4.632],\n",
       "       [-2.038],\n",
       "       [ 2.588],\n",
       "       [-0.452],\n",
       "       [-2.772],\n",
       "       [-0.66 ],\n",
       "       [-2.733],\n",
       "       [-0.468],\n",
       "       [-2.789],\n",
       "       [-1.419],\n",
       "       [-2.331],\n",
       "       [-2.421],\n",
       "       [ 5.038],\n",
       "       [-0.245],\n",
       "       [-0.591],\n",
       "       [-0.217],\n",
       "       [-2.689],\n",
       "       [-2.375],\n",
       "       [-2.414],\n",
       "       [-0.755],\n",
       "       [-1.442],\n",
       "       [ 5.846],\n",
       "       [-1.159],\n",
       "       [-0.431],\n",
       "       [-4.904],\n",
       "       [ 1.431],\n",
       "       [ 2.686],\n",
       "       [-1.345],\n",
       "       [-5.944],\n",
       "       [ 5.626],\n",
       "       [-2.181],\n",
       "       [-0.233],\n",
       "       [ 1.589],\n",
       "       [-2.314],\n",
       "       [-0.866],\n",
       "       [-0.531],\n",
       "       [-2.8  ],\n",
       "       [ 1.533],\n",
       "       [ 8.467],\n",
       "       [-0.104],\n",
       "       [-3.357],\n",
       "       [-6.477],\n",
       "       [ 2.914],\n",
       "       [ 0.271],\n",
       "       [ 5.035],\n",
       "       [-2.224],\n",
       "       [-2.953],\n",
       "       [-1.31 ],\n",
       "       [-2.47 ],\n",
       "       [ 0.139],\n",
       "       [-2.078],\n",
       "       [ 1.412],\n",
       "       [-0.021],\n",
       "       [ 0.632]], dtype=float32)"
      ]
     },
     "execution_count": 192,
     "metadata": {},
     "output_type": "execute_result"
    }
   ],
   "source": [
    "predictions"
   ]
  },
  {
   "cell_type": "code",
   "execution_count": null,
   "id": "bd1d532d",
   "metadata": {},
   "outputs": [],
   "source": []
  }
 ],
 "metadata": {
  "kernelspec": {
   "display_name": "Python 3 (ipykernel)",
   "language": "python",
   "name": "python3"
  },
  "language_info": {
   "codemirror_mode": {
    "name": "ipython",
    "version": 3
   },
   "file_extension": ".py",
   "mimetype": "text/x-python",
   "name": "python",
   "nbconvert_exporter": "python",
   "pygments_lexer": "ipython3",
   "version": "3.7.13"
  }
 },
 "nbformat": 4,
 "nbformat_minor": 5
}
