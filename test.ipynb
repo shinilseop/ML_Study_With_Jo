{
 "cells": [
  {
   "cell_type": "code",
   "execution_count": 12,
   "id": "e1c1527f-2d72-40ba-8419-8c5e8c4c1f76",
   "metadata": {},
   "outputs": [],
   "source": [
    "import tensorflow as tf\n",
    "import numpy as np"
   ]
  },
  {
   "cell_type": "code",
   "execution_count": 14,
   "id": "adfbe865-17c1-4aa3-a2d0-5abcda05a6bb",
   "metadata": {},
   "outputs": [],
   "source": [
    "TRAIN_DATA_URL = './datas/titanic/train.csv'\n",
    "TEST_DATA_URL = './datas/titanic/test/csv'\n",
    "\n",
    "train_file_path = tf.keras.utils.get_file(\"train.csv\", TRAIN_DATA_URL)\n",
    "test_file_path = tf.keras.utils.get_file(\"eval.csv\", TEST_DATA_URL)"
   ]
  },
  {
   "cell_type": "code",
   "execution_count": 15,
   "id": "8b3d682c-0a4c-4897-88f6-c936450efa48",
   "metadata": {},
   "outputs": [],
   "source": [
    "# Make numpy values easier to read.\n",
    "np.set_printoptions(precision=3, suppress=True)"
   ]
  },
  {
   "cell_type": "code",
   "execution_count": 16,
   "id": "7010344d-841c-4aea-96d1-1cc902f7a9cc",
   "metadata": {},
   "outputs": [],
   "source": [
    "LABEL_COLUMN = 'survived'\n",
    "LABELS = [0, 1]"
   ]
  },
  {
   "cell_type": "code",
   "execution_count": 17,
   "id": "4d68f1a9-354d-4d4e-b538-9837b4779bc7",
   "metadata": {},
   "outputs": [],
   "source": [
    "def get_dataset(file_path, **kwargs):\n",
    "  dataset = tf.data.experimental.make_csv_dataset(\n",
    "      file_path,\n",
    "      batch_size=5, # Artificially small to make examples easier to show.\n",
    "      label_name=LABEL_COLUMN,\n",
    "      na_value=\"?\",\n",
    "      num_epochs=1,\n",
    "      ignore_errors=True, \n",
    "      **kwargs)\n",
    "  return dataset\n",
    "\n",
    "raw_train_data = get_dataset(train_file_path)\n",
    "raw_testn_data = get_dataset(test_file_path)"
   ]
  },
  {
   "cell_type": "code",
   "execution_count": 18,
   "id": "6229e9b5-b66c-443c-beaf-b1c50cb9e63e",
   "metadata": {},
   "outputs": [],
   "source": [
    "def show_batch(dataset):\n",
    "  for batch, label in dataset.take(1):\n",
    "    for key, value in batch.items():\n",
    "      print(\"{:20s}: {}\".format(key,value.numpy()))"
   ]
  },
  {
   "cell_type": "code",
   "execution_count": 19,
   "id": "903335e6-bbc5-4c5c-a59b-4e56005d9f61",
   "metadata": {},
   "outputs": [
    {
     "name": "stdout",
     "output_type": "stream",
     "text": [
      "sex                 : [b'female' b'male' b'male' b'female' b'male']\n",
      "age                 : [58. 22. 23. 28. 47.]\n",
      "n_siblings_spouses  : [0 0 0 1 0]\n",
      "parch               : [0 0 0 2 0]\n",
      "fare                : [146.521   9.      7.896  23.45   38.5  ]\n",
      "class               : [b'First' b'Third' b'Third' b'Third' b'First']\n",
      "deck                : [b'B' b'unknown' b'unknown' b'unknown' b'E']\n",
      "embark_town         : [b'Cherbourg' b'Southampton' b'Southampton' b'Southampton' b'Southampton']\n",
      "alone               : [b'y' b'y' b'y' b'n' b'y']\n"
     ]
    }
   ],
   "source": [
    "show_batch(raw_train_data)"
   ]
  },
  {
   "cell_type": "code",
   "execution_count": null,
   "id": "2a4f8c5e-b3fb-4e01-a759-e6bae14067a4",
   "metadata": {},
   "outputs": [],
   "source": []
  }
 ],
 "metadata": {
  "kernelspec": {
   "display_name": "Python 3 (ipykernel)",
   "language": "python",
   "name": "python3"
  },
  "language_info": {
   "codemirror_mode": {
    "name": "ipython",
    "version": 3
   },
   "file_extension": ".py",
   "mimetype": "text/x-python",
   "name": "python",
   "nbconvert_exporter": "python",
   "pygments_lexer": "ipython3",
   "version": "3.7.13"
  }
 },
 "nbformat": 4,
 "nbformat_minor": 5
}
